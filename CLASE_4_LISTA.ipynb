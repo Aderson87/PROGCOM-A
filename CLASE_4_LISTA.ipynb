{
  "nbformat": 4,
  "nbformat_minor": 0,
  "metadata": {
    "colab": {
      "provenance": [],
      "authorship_tag": "ABX9TyOaZEOqzRSk1HjyxE87J0Nw",
      "include_colab_link": true
    },
    "kernelspec": {
      "name": "python3",
      "display_name": "Python 3"
    },
    "language_info": {
      "name": "python"
    }
  },
  "cells": [
    {
      "cell_type": "markdown",
      "metadata": {
        "id": "view-in-github",
        "colab_type": "text"
      },
      "source": [
        "<a href=\"https://colab.research.google.com/github/Aderson87/PROGCOM-A/blob/main/CLASE_4_LISTA.ipynb\" target=\"_parent\"><img src=\"https://colab.research.google.com/assets/colab-badge.svg\" alt=\"Open In Colab\"/></a>"
      ]
    },
    {
      "cell_type": "markdown",
      "source": [
        "#LISTAS\n",
        "1. Conjunto de datos\n",
        "2. Es mutable. (5000xp)\n",
        "3. Tiene indexacion"
      ],
      "metadata": {
        "id": "uwuhjS3XCCtS"
      }
    },
    {
      "cell_type": "code",
      "execution_count": 1,
      "metadata": {
        "colab": {
          "base_uri": "https://localhost:8080/",
          "height": 35
        },
        "id": "pNcn_1Hi3Rhd",
        "outputId": "019ea8d2-b863-4045-8779-9e8554f8a408"
      },
      "outputs": [
        {
          "output_type": "execute_result",
          "data": {
            "text/plain": [
              "'Maria'"
            ],
            "application/vnd.google.colaboratory.intrinsic+json": {
              "type": "string"
            }
          },
          "metadata": {},
          "execution_count": 1
        }
      ],
      "source": [
        "lista=[\"Maria\",4,True, \"hola\"]\n",
        "lista[0]"
      ]
    },
    {
      "cell_type": "markdown",
      "source": [
        "4. Son ordenadas\n",
        "Forma generica\n",
        "\n",
        "```\n",
        "Nombre_de_la_lista =[e1,e2,e3,e4...en]\n",
        "```\n",
        "\n"
      ],
      "metadata": {
        "id": "3OI5VkjjDAFw"
      }
    },
    {
      "cell_type": "code",
      "source": [
        "lista[5]"
      ],
      "metadata": {
        "colab": {
          "base_uri": "https://localhost:8080/",
          "height": 141
        },
        "id": "4hQHIazKDx2S",
        "outputId": "e0ce5420-912d-42f2-db11-4688469496fe"
      },
      "execution_count": 2,
      "outputs": [
        {
          "output_type": "error",
          "ename": "IndexError",
          "evalue": "list index out of range",
          "traceback": [
            "\u001b[0;31m---------------------------------------------------------------------------\u001b[0m",
            "\u001b[0;31mIndexError\u001b[0m                                Traceback (most recent call last)",
            "\u001b[0;32m/tmp/ipython-input-2920324198.py\u001b[0m in \u001b[0;36m<cell line: 0>\u001b[0;34m()\u001b[0m\n\u001b[0;32m----> 1\u001b[0;31m \u001b[0mlista\u001b[0m\u001b[0;34m[\u001b[0m\u001b[0;36m5\u001b[0m\u001b[0;34m]\u001b[0m\u001b[0;34m\u001b[0m\u001b[0;34m\u001b[0m\u001b[0m\n\u001b[0m",
            "\u001b[0;31mIndexError\u001b[0m: list index out of range"
          ]
        }
      ]
    },
    {
      "cell_type": "code",
      "source": [
        "#Obteniendo el ultimo elemento de la lista\n",
        "lista[len(lista)-1]"
      ],
      "metadata": {
        "colab": {
          "base_uri": "https://localhost:8080/",
          "height": 35
        },
        "id": "1Xe23GyLD9Rv",
        "outputId": "bdc5c6a5-6068-4ff1-e4d9-6f76d0b85f9e"
      },
      "execution_count": 3,
      "outputs": [
        {
          "output_type": "execute_result",
          "data": {
            "text/plain": [
              "'hola'"
            ],
            "application/vnd.google.colaboratory.intrinsic+json": {
              "type": "string"
            }
          },
          "metadata": {},
          "execution_count": 3
        }
      ]
    },
    {
      "cell_type": "code",
      "source": [
        "lista [-1]"
      ],
      "metadata": {
        "colab": {
          "base_uri": "https://localhost:8080/",
          "height": 35
        },
        "id": "78Q0IQnxEZ0_",
        "outputId": "a570b478-195a-4dbf-b80f-9e513f7e9b2d"
      },
      "execution_count": 4,
      "outputs": [
        {
          "output_type": "execute_result",
          "data": {
            "text/plain": [
              "'hola'"
            ],
            "application/vnd.google.colaboratory.intrinsic+json": {
              "type": "string"
            }
          },
          "metadata": {},
          "execution_count": 4
        }
      ]
    },
    {
      "cell_type": "code",
      "source": [
        "lista[:2]"
      ],
      "metadata": {
        "colab": {
          "base_uri": "https://localhost:8080/"
        },
        "id": "etKFKWTKEppK",
        "outputId": "31ab07a4-765d-4aea-d8a9-94c1815cd35e"
      },
      "execution_count": 5,
      "outputs": [
        {
          "output_type": "execute_result",
          "data": {
            "text/plain": [
              "['Maria', 4]"
            ]
          },
          "metadata": {},
          "execution_count": 5
        }
      ]
    },
    {
      "cell_type": "code",
      "source": [
        "lista[:]"
      ],
      "metadata": {
        "colab": {
          "base_uri": "https://localhost:8080/"
        },
        "id": "RGkaN6GQFTv_",
        "outputId": "eabb344b-a16e-43c6-d2b1-ebd96bbedacb"
      },
      "execution_count": 6,
      "outputs": [
        {
          "output_type": "execute_result",
          "data": {
            "text/plain": [
              "['Maria', 4, True, 'hola']"
            ]
          },
          "metadata": {},
          "execution_count": 6
        }
      ]
    },
    {
      "cell_type": "code",
      "source": [
        "lista[:-1]"
      ],
      "metadata": {
        "colab": {
          "base_uri": "https://localhost:8080/"
        },
        "id": "Ksii-A2nFhTp",
        "outputId": "4c317656-c5b4-4b64-8c4a-0e067f0d3504"
      },
      "execution_count": 10,
      "outputs": [
        {
          "output_type": "execute_result",
          "data": {
            "text/plain": [
              "['Maria', 4, True]"
            ]
          },
          "metadata": {},
          "execution_count": 10
        }
      ]
    },
    {
      "cell_type": "code",
      "source": [
        "lista[1:4]"
      ],
      "metadata": {
        "colab": {
          "base_uri": "https://localhost:8080/"
        },
        "id": "AzqacqEpF1FW",
        "outputId": "d47e031d-6370-4300-8950-3cde51e080dc"
      },
      "execution_count": 8,
      "outputs": [
        {
          "output_type": "execute_result",
          "data": {
            "text/plain": [
              "[4, True, 'hola']"
            ]
          },
          "metadata": {},
          "execution_count": 8
        }
      ]
    },
    {
      "cell_type": "code",
      "source": [
        "for i in lista:\n",
        "   #Va a interar 4 veces\n",
        "   #i va a tomar por vez el elemento de la lista\n",
        "   print(i)"
      ],
      "metadata": {
        "colab": {
          "base_uri": "https://localhost:8080/"
        },
        "id": "JfJnCgILGMVm",
        "outputId": "242e5660-a71e-4563-9860-ace7f8f854f0"
      },
      "execution_count": 11,
      "outputs": [
        {
          "output_type": "stream",
          "name": "stdout",
          "text": [
            "Maria\n",
            "4\n",
            "True\n",
            "hola\n"
          ]
        }
      ]
    },
    {
      "cell_type": "code",
      "source": [
        "#Lista por extencion:\n",
        "num=[1,2,3,4,5,6,7,8,9,10]\n",
        "#Lista por comprecion\n",
        "num2=list(range(1,11))\n",
        "print(num2)"
      ],
      "metadata": {
        "colab": {
          "base_uri": "https://localhost:8080/"
        },
        "id": "Nnncz6Y9Gt_G",
        "outputId": "38c52473-e263-46e8-e011-45b7231de85c"
      },
      "execution_count": 12,
      "outputs": [
        {
          "output_type": "stream",
          "name": "stdout",
          "text": [
            "[1, 2, 3, 4, 5, 6, 7, 8, 9, 10]\n"
          ]
        }
      ]
    },
    {
      "cell_type": "markdown",
      "source": [
        "##Lista por comprecion\n",
        "forma nueva de generar lista a partir\n",
        "de una exprecion\n",
        "Sintaxis:\n",
        "\n",
        "```\n",
        "nombre_lista=[exprecion for item in iterable if condicion]\n",
        "\n",
        "```\n",
        "Donde:\n",
        "1. exprecion: es el valor que generara  la nueva lista\n",
        "2. item: variable que represenata cada elemento dentro de la interacion\n",
        "3. iterable: cuanto elementos va a tener la nueva lista\n",
        "4. Condicion: es opcional y se ampea si los elementos deben cumplir algo\n",
        "\n"
      ],
      "metadata": {
        "id": "LmHY23kIHQhG"
      }
    },
    {
      "cell_type": "code",
      "source": [
        "#Convertir una lista de oraciones en una lista de palabras\n",
        "oraciones=[\"Aqui va una oracion\", \"Aqui va otra oraion\", \"Aqui va la tercera oracion\"]\n",
        "palabras=[i.split() for i in oraciones]\n",
        "palabras"
      ],
      "metadata": {
        "colab": {
          "base_uri": "https://localhost:8080/"
        },
        "id": "0F0hRW-MIemu",
        "outputId": "9e887451-7993-4cdf-b203-8379f90407f6"
      },
      "execution_count": 13,
      "outputs": [
        {
          "output_type": "execute_result",
          "data": {
            "text/plain": [
              "[['Aqui', 'va', 'una', 'oracion'],\n",
              " ['Aqui', 'va', 'otra', 'oraion'],\n",
              " ['Aqui', 'va', 'la', 'tercera', 'oracion']]"
            ]
          },
          "metadata": {},
          "execution_count": 13
        }
      ]
    },
    {
      "cell_type": "code",
      "source": [
        "#Lista con los pares de mun2\n",
        "pares=[num for num in num2 if num%2==0]\n",
        "pares"
      ],
      "metadata": {
        "colab": {
          "base_uri": "https://localhost:8080/"
        },
        "id": "EaK86DTCJWej",
        "outputId": "6a419487-1a89-4d68-eaf8-4b46d881a239"
      },
      "execution_count": 16,
      "outputs": [
        {
          "output_type": "execute_result",
          "data": {
            "text/plain": [
              "[2, 4, 6, 8, 10]"
            ]
          },
          "metadata": {},
          "execution_count": 16
        }
      ]
    },
    {
      "cell_type": "code",
      "source": [
        "#clasificar si un numero es positivo o negativo\n",
        "numeros=[1,4,6,-20,-2,-69,4]\n",
        "lista2=[(n,\"positivo\") if n>0 else (n,\"negativo\") for n in numeros]\n",
        "lista2"
      ],
      "metadata": {
        "colab": {
          "base_uri": "https://localhost:8080/"
        },
        "id": "qlHIFG8RLMET",
        "outputId": "6dda99ba-9d1d-4114-e086-e150b63681fd"
      },
      "execution_count": 18,
      "outputs": [
        {
          "output_type": "execute_result",
          "data": {
            "text/plain": [
              "[(1, 'positivo'),\n",
              " (4, 'positivo'),\n",
              " (6, 'positivo'),\n",
              " (-20, 'negativo'),\n",
              " (-2, 'negativo'),\n",
              " (-69, 'negativo'),\n",
              " (4, 'positivo')]"
            ]
          },
          "metadata": {},
          "execution_count": 18
        }
      ]
    },
    {
      "cell_type": "code",
      "source": [
        "lista=[]\n",
        "for i in range(10):\n",
        "  e=float(input(\"Digita la temperatura \"))\n",
        "  lista.append(e)\n",
        "lista2=[(i, \"Frio\") if i >= 25 else (i,23\"Templado\") if i >= 27 and i <= 25 else (i, \"Caliente\") for i in lista]\n",
        "print(lista2)"
      ],
      "metadata": {
        "colab": {
          "base_uri": "https://localhost:8080/"
        },
        "id": "SYwB0rOjL1f5",
        "outputId": "600a4aba-d81b-490a-c332-9468427e4798"
      },
      "execution_count": 24,
      "outputs": [
        {
          "output_type": "stream",
          "name": "stdout",
          "text": [
            "Digita la temperatura 34\n",
            "Digita la temperatura 56\n",
            "Digita la temperatura 21\n",
            "Digita la temperatura 23\n",
            "Digita la temperatura 34\n",
            "Digita la temperatura 12\n",
            "Digita la temperatura 23\n",
            "Digita la temperatura 12\n",
            "Digita la temperatura 12\n",
            "Digita la temperatura 2\n",
            "[(34.0, 'Frio'), (56.0, 'Frio'), (21.0, 'Caliente'), (23.0, 'Caliente'), (34.0, 'Frio'), (12.0, 'Caliente'), (23.0, 'Caliente'), (12.0, 'Caliente'), (12.0, 'Caliente'), (2.0, 'Caliente')]\n"
          ]
        }
      ]
    },
    {
      "cell_type": "code",
      "source": [
        "#Quiero obtener la inicial de nombres y ponerlo en mayuscula\n",
        "nombres=[\"camilo\", \"anderson\", \"joan\"]\n",
        "lista3=[x[0].upper() for x in nombres]\n",
        "lista3"
      ],
      "metadata": {
        "colab": {
          "base_uri": "https://localhost:8080/"
        },
        "id": "UNwXYM4kPotY",
        "outputId": "d5ed7a60-1c5f-4819-8c03-26cb988ceb80"
      },
      "execution_count": 27,
      "outputs": [
        {
          "output_type": "execute_result",
          "data": {
            "text/plain": [
              "['C', 'A', 'J']"
            ]
          },
          "metadata": {},
          "execution_count": 27
        }
      ]
    }
  ]
}