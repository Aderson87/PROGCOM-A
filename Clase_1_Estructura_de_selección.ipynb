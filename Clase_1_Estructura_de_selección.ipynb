{
  "nbformat": 4,
  "nbformat_minor": 0,
  "metadata": {
    "colab": {
      "provenance": [],
      "authorship_tag": "ABX9TyNCwF+Q6ZO2YXI5VUNTFcpn",
      "include_colab_link": true
    },
    "kernelspec": {
      "name": "python3",
      "display_name": "Python 3"
    },
    "language_info": {
      "name": "python"
    }
  },
  "cells": [
    {
      "cell_type": "markdown",
      "metadata": {
        "id": "view-in-github",
        "colab_type": "text"
      },
      "source": [
        "<a href=\"https://colab.research.google.com/github/Aderson87/PROGCOM-A/blob/main/Clase_1_Estructura_de_selecci%C3%B3n.ipynb\" target=\"_parent\"><img src=\"https://colab.research.google.com/assets/colab-badge.svg\" alt=\"Open In Colab\"/></a>"
      ]
    },
    {
      "cell_type": "markdown",
      "source": [
        "#Estructura de selección\n",
        "Se emplea cuando se debe evaluar una condicion y esta da un valor de vardad (v) o (f)\n"
      ],
      "metadata": {
        "id": "Cnru0dQTsFsG"
      }
    },
    {
      "cell_type": "markdown",
      "source": [
        "##Ectructura if-else\n",
        "\n",
        "```\n",
        "if (condicion):\n",
        "  entro aqui, si la condicion es v\n",
        "else:\n",
        "  entro aqui, si la condicion es f.\n",
        "```\n",
        "\n"
      ],
      "metadata": {
        "id": "kiC190B-srUt"
      }
    },
    {
      "cell_type": "code",
      "execution_count": 3,
      "metadata": {
        "colab": {
          "base_uri": "https://localhost:8080/"
        },
        "id": "YPetIPakqm6s",
        "outputId": "67b16364-a9f5-4bf1-9b86-135fd8e1570e"
      },
      "outputs": [
        {
          "output_type": "stream",
          "name": "stdout",
          "text": [
            "Ingrese un numero 6\n",
            "6 es un numero positivo\n"
          ]
        }
      ],
      "source": [
        "#Escribe un programa que reciba un numero e indique si el positivo\n",
        "n=int(input(\"Ingrese un numero \"))\n",
        "if n>0:\n",
        "  print(f\"{n} es un numero positivo\")\n",
        "else:\n",
        "  print(f\"{n} NO es un numero positivo\")"
      ]
    },
    {
      "cell_type": "markdown",
      "source": [
        "##Seleccion multiple if-elif-else\n",
        "\n",
        "```\n",
        "if (condicion):\n",
        "  si se cumple condicio 1, entro aqui\n",
        "elif(condicion 2):\n",
        "  si no se cumple condicion 1,\n",
        "  pero se cumple condicion 2,\n",
        "  entro aqui\n",
        "else:\n",
        "  si no se cumple ninguna de las\n",
        "  anteriores\n",
        "```\n",
        "\n"
      ],
      "metadata": {
        "id": "Oz76sBj8y8Vg"
      }
    },
    {
      "cell_type": "code",
      "source": [
        "n = int(input(\"Ingresa un numero \"))\n",
        "if n>0:\n",
        "   print(f\"{n} es un numero positivo\")\n",
        "elif n<0:\n",
        "   print(f\"{n} NO es un numero positivo\")\n",
        "else: print(f\"{n} es 0\")"
      ],
      "metadata": {
        "colab": {
          "base_uri": "https://localhost:8080/"
        },
        "id": "5nzCTI05y6xJ",
        "outputId": "e90d08ee-82e7-4226-9c6c-bba2da61f7f2"
      },
      "execution_count": 13,
      "outputs": [
        {
          "output_type": "stream",
          "name": "stdout",
          "text": [
            "Ingresa un numero -9\n",
            "-9 NO es un numero positivo\n"
          ]
        }
      ]
    },
    {
      "cell_type": "markdown",
      "source": [
        "##operador terniario\n",
        "se usa cuando hay una condicion a\n",
        "evaluar simple y se desea resolver en una linea de codigo\n",
        "\n",
        "```\n",
        "(valor de vredad V) if\n",
        "(condicion) else (valor de verdad F)\n",
        "```\n",
        "\n"
      ],
      "metadata": {
        "id": "M9AoHnvO1Ij4"
      }
    },
    {
      "cell_type": "code",
      "source": [
        "print(f\"{n} es un numero positivo \") if n>=0 else print(f\"{n} No es un numero positivo\")"
      ],
      "metadata": {
        "colab": {
          "base_uri": "https://localhost:8080/"
        },
        "id": "mC-ZodGa3Me2",
        "outputId": "34c58f39-dd44-4bdc-eace-e0ae1c168504"
      },
      "execution_count": 14,
      "outputs": [
        {
          "output_type": "stream",
          "name": "stdout",
          "text": [
            "-9 No es un numero positivo\n"
          ]
        }
      ]
    },
    {
      "cell_type": "code",
      "source": [
        "print(f\"{n} es un numero positivo \") if n>=0 else print(f\"{n} No es un numero positivo\")"
      ],
      "metadata": {
        "colab": {
          "base_uri": "https://localhost:8080/"
        },
        "id": "elrntwcx2EMu",
        "outputId": "d4229029-60ba-451e-df0f-082238ae355d"
      },
      "execution_count": 15,
      "outputs": [
        {
          "output_type": "stream",
          "name": "stdout",
          "text": [
            "-9 No es un numero positivo\n"
          ]
        }
      ]
    },
    {
      "cell_type": "code",
      "source": [
        "#2\n",
        "edad = int(input(\"Ingresa tu edad \"))\n",
        "if edad >= 18:\n",
        "  print(\"Eres mayor de edad\")\n",
        "else:\n",
        "  print(\"Eres de menor de edad\")"
      ],
      "metadata": {
        "colab": {
          "base_uri": "https://localhost:8080/"
        },
        "id": "R_r-HM746tg_",
        "outputId": "d1bac8f0-252f-4f8a-ecd9-af3ffdf27d70"
      },
      "execution_count": 26,
      "outputs": [
        {
          "output_type": "stream",
          "name": "stdout",
          "text": [
            "Ingresa tu edad 18\n",
            "Eres mayor de edad\n"
          ]
        }
      ]
    },
    {
      "cell_type": "code",
      "source": [
        "edad = int(input(\"Ingresa tu edad \"))\n",
        "if edad >= 18:\n",
        "  print(\"eres mayor de edad\")\n",
        "elif edad >= 13 and edad <=17:\n",
        "  print(\"Eres un adoblecente\")\n",
        "else: print(\"Eres un niño\")"
      ],
      "metadata": {
        "colab": {
          "base_uri": "https://localhost:8080/"
        },
        "id": "D1MSGprY7ocS",
        "outputId": "87c8fe99-cdf2-4cb1-fc2d-3570e8e8f909"
      },
      "execution_count": 29,
      "outputs": [
        {
          "output_type": "stream",
          "name": "stdout",
          "text": [
            "Ingresa tu edad 10\n",
            "Eres un niño\n"
          ]
        }
      ]
    },
    {
      "cell_type": "code",
      "source": [
        "print(\"eres mayor de edad\") if edad>=18 else print(\"eres menor de edad\")"
      ],
      "metadata": {
        "colab": {
          "base_uri": "https://localhost:8080/"
        },
        "id": "tskA85Cs8u8C",
        "outputId": "549d7998-e2cd-4890-d666-fed78d51ecfb"
      },
      "execution_count": 25,
      "outputs": [
        {
          "output_type": "stream",
          "name": "stdout",
          "text": [
            "eres menor de edad\n"
          ]
        }
      ]
    },
    {
      "cell_type": "code",
      "source": [
        "a = \"Eres mayor de edad\" if edad>=18 else \"Eres menor de edad\"\n",
        "print(a)"
      ],
      "metadata": {
        "colab": {
          "base_uri": "https://localhost:8080/"
        },
        "id": "PkPlAI-a9HPR",
        "outputId": "7dde4bf8-249a-405b-a5eb-23e77df1344c"
      },
      "execution_count": 31,
      "outputs": [
        {
          "output_type": "stream",
          "name": "stdout",
          "text": [
            "Eres menor de edad\n"
          ]
        }
      ]
    },
    {
      "cell_type": "code",
      "source": [
        "#3\n",
        "n1 = float(input(\"ingrese el valor de 1: \"))\n",
        "n2 = float(input(\"ingrese el valor de 2: \"))\n",
        "if n1 > n2:\n",
        "  print(f\"el mayor es {n1}\")\n",
        "else:\n",
        "  print(f\"el menor es {n2}\")"
      ],
      "metadata": {
        "colab": {
          "base_uri": "https://localhost:8080/"
        },
        "id": "lEJSGEFY922z",
        "outputId": "643b14cb-a5b0-45b5-be28-b6e32596fcd9"
      },
      "execution_count": 32,
      "outputs": [
        {
          "output_type": "stream",
          "name": "stdout",
          "text": [
            "ingrese el valor de 1: 2\n",
            "ingrese el valor de 2: 5\n",
            "el menor es 5.0\n"
          ]
        }
      ]
    },
    {
      "cell_type": "code",
      "source": [
        "n1 = float(input(\"ingrese el valor de 1: \"))\n",
        "n2 = float(input(\"ingrese el valor de 2: \"))\n",
        "if n1 > n2:\n",
        "  print(f\"el mayor es {n1}\")\n",
        "elif n2 > n1:\n",
        "  print(f\"el mayor es {n2}\")\n",
        "else: print(\"son iguales\")"
      ],
      "metadata": {
        "colab": {
          "base_uri": "https://localhost:8080/"
        },
        "id": "MYzI2oHc-5EC",
        "outputId": "7ccb6a8d-95b9-4ccf-bebf-3e5b58593bef"
      },
      "execution_count": 33,
      "outputs": [
        {
          "output_type": "stream",
          "name": "stdout",
          "text": [
            "ingrese el valor de 1: 5\n",
            "ingrese el valor de 2: 6\n",
            "el mayor es 6.0\n"
          ]
        }
      ]
    },
    {
      "cell_type": "code",
      "source": [
        "print(\"el mayor es \", n1) if n1 >  n2 else print(\"eres el mayor\", n2)"
      ],
      "metadata": {
        "colab": {
          "base_uri": "https://localhost:8080/"
        },
        "id": "_Cui-TD3_eJA",
        "outputId": "05e37ddc-73d8-4b30-bfba-0a7dd97a081f"
      },
      "execution_count": 34,
      "outputs": [
        {
          "output_type": "stream",
          "name": "stdout",
          "text": [
            "eres el mayor 6.0\n"
          ]
        }
      ]
    }
  ]
}