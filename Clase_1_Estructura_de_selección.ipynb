{
  "nbformat": 4,
  "nbformat_minor": 0,
  "metadata": {
    "colab": {
      "provenance": [],
      "authorship_tag": "ABX9TyPAmfZHAOHyKdI6Ru/ADiUD",
      "include_colab_link": true
    },
    "kernelspec": {
      "name": "python3",
      "display_name": "Python 3"
    },
    "language_info": {
      "name": "python"
    }
  },
  "cells": [
    {
      "cell_type": "markdown",
      "metadata": {
        "id": "view-in-github",
        "colab_type": "text"
      },
      "source": [
        "<a href=\"https://colab.research.google.com/github/Aderson87/PROGCOM-A/blob/main/Clase_1_Estructura_de_selecci%C3%B3n.ipynb\" target=\"_parent\"><img src=\"https://colab.research.google.com/assets/colab-badge.svg\" alt=\"Open In Colab\"/></a>"
      ]
    },
    {
      "cell_type": "markdown",
      "source": [
        "#Estructura de selección\n",
        "Se emplea cuando se debe evaluar una condicion y esta da un valor de vardad (v) o (f)\n"
      ],
      "metadata": {
        "id": "Cnru0dQTsFsG"
      }
    },
    {
      "cell_type": "markdown",
      "source": [
        "##Ectructura if-else\n",
        "\n",
        "```\n",
        "if (condicion):\n",
        "  entro aqui, si la condicion es v\n",
        "else:\n",
        "  entro aqui, si la condicion es f.\n",
        "```\n",
        "\n"
      ],
      "metadata": {
        "id": "kiC190B-srUt"
      }
    },
    {
      "cell_type": "code",
      "execution_count": null,
      "metadata": {
        "colab": {
          "base_uri": "https://localhost:8080/"
        },
        "id": "YPetIPakqm6s",
        "outputId": "67b16364-a9f5-4bf1-9b86-135fd8e1570e"
      },
      "outputs": [
        {
          "output_type": "stream",
          "name": "stdout",
          "text": [
            "Ingrese un numero 6\n",
            "6 es un numero positivo\n"
          ]
        }
      ],
      "source": [
        "#Escribe un programa que reciba un numero e indique si el positivo\n",
        "n=int(input(\"Ingrese un numero \"))\n",
        "if n>0:\n",
        "  print(f\"{n} es un numero positivo\")\n",
        "else:\n",
        "  print(f\"{n} NO es un numero positivo\")"
      ]
    },
    {
      "cell_type": "markdown",
      "source": [
        "##Seleccion multiple if-elif-else\n",
        "\n",
        "```\n",
        "if (condicion):\n",
        "  si se cumple condicio 1, entro aqui\n",
        "elif(condicion 2):\n",
        "  si no se cumple condicion 1,\n",
        "  pero se cumple condicion 2,\n",
        "  entro aqui\n",
        "else:\n",
        "  si no se cumple ninguna de las\n",
        "  anteriores\n",
        "```\n",
        "\n"
      ],
      "metadata": {
        "id": "Oz76sBj8y8Vg"
      }
    },
    {
      "cell_type": "code",
      "source": [
        "n = int(input(\"Ingresa un numero \"))\n",
        "if n>0:\n",
        "   print(f\"{n} es un numero positivo\")\n",
        "elif n<0:\n",
        "   print(f\"{n} NO es un numero positivo\")\n",
        "else: print(f\"{n} es 0\")"
      ],
      "metadata": {
        "colab": {
          "base_uri": "https://localhost:8080/"
        },
        "id": "5nzCTI05y6xJ",
        "outputId": "e90d08ee-82e7-4226-9c6c-bba2da61f7f2"
      },
      "execution_count": null,
      "outputs": [
        {
          "output_type": "stream",
          "name": "stdout",
          "text": [
            "Ingresa un numero -9\n",
            "-9 NO es un numero positivo\n"
          ]
        }
      ]
    },
    {
      "cell_type": "markdown",
      "source": [
        "##operador terniario\n",
        "se usa cuando hay una condicion a\n",
        "evaluar simple y se desea resolver en una linea de codigo\n",
        "\n",
        "```\n",
        "(valor de vredad V) if\n",
        "(condicion) else (valor de verdad F)\n",
        "```\n",
        "\n"
      ],
      "metadata": {
        "id": "M9AoHnvO1Ij4"
      }
    },
    {
      "cell_type": "code",
      "source": [
        "print(f\"{n} es un numero positivo \") if n>=0 else print(f\"{n} No es un numero positivo\")"
      ],
      "metadata": {
        "colab": {
          "base_uri": "https://localhost:8080/"
        },
        "id": "mC-ZodGa3Me2",
        "outputId": "34c58f39-dd44-4bdc-eace-e0ae1c168504"
      },
      "execution_count": null,
      "outputs": [
        {
          "output_type": "stream",
          "name": "stdout",
          "text": [
            "-9 No es un numero positivo\n"
          ]
        }
      ]
    },
    {
      "cell_type": "code",
      "source": [
        "print(f\"{n} es un numero positivo \") if n>=0 else print(f\"{n} No es un numero positivo\")"
      ],
      "metadata": {
        "colab": {
          "base_uri": "https://localhost:8080/"
        },
        "id": "elrntwcx2EMu",
        "outputId": "d4229029-60ba-451e-df0f-082238ae355d"
      },
      "execution_count": null,
      "outputs": [
        {
          "output_type": "stream",
          "name": "stdout",
          "text": [
            "-9 No es un numero positivo\n"
          ]
        }
      ]
    },
    {
      "cell_type": "code",
      "source": [
        "#2\n",
        "edad = int(input(\"Ingresa tu edad \"))\n",
        "if edad >= 18:\n",
        "  print(\"Eres mayor de edad\")\n",
        "else:\n",
        "  print(\"Eres de menor de edad\")"
      ],
      "metadata": {
        "colab": {
          "base_uri": "https://localhost:8080/"
        },
        "id": "R_r-HM746tg_",
        "outputId": "d1bac8f0-252f-4f8a-ecd9-af3ffdf27d70"
      },
      "execution_count": null,
      "outputs": [
        {
          "output_type": "stream",
          "name": "stdout",
          "text": [
            "Ingresa tu edad 18\n",
            "Eres mayor de edad\n"
          ]
        }
      ]
    },
    {
      "cell_type": "code",
      "source": [
        "edad = int(input(\"Ingresa tu edad \"))\n",
        "if edad >= 18:\n",
        "  print(\"eres mayor de edad\")\n",
        "elif edad >= 13 and edad <=17:\n",
        "  print(\"Eres un adoblecente\")\n",
        "else: print(\"Eres un niño\")"
      ],
      "metadata": {
        "colab": {
          "base_uri": "https://localhost:8080/"
        },
        "id": "D1MSGprY7ocS",
        "outputId": "87c8fe99-cdf2-4cb1-fc2d-3570e8e8f909"
      },
      "execution_count": null,
      "outputs": [
        {
          "output_type": "stream",
          "name": "stdout",
          "text": [
            "Ingresa tu edad 10\n",
            "Eres un niño\n"
          ]
        }
      ]
    },
    {
      "cell_type": "code",
      "source": [
        "print(\"eres mayor de edad\") if edad>=18 else print(\"eres menor de edad\")"
      ],
      "metadata": {
        "colab": {
          "base_uri": "https://localhost:8080/"
        },
        "id": "tskA85Cs8u8C",
        "outputId": "549d7998-e2cd-4890-d666-fed78d51ecfb"
      },
      "execution_count": null,
      "outputs": [
        {
          "output_type": "stream",
          "name": "stdout",
          "text": [
            "eres menor de edad\n"
          ]
        }
      ]
    },
    {
      "cell_type": "code",
      "source": [
        "a = \"Eres mayor de edad\" if edad>=18 else \"Eres menor de edad\"\n",
        "print(a)"
      ],
      "metadata": {
        "colab": {
          "base_uri": "https://localhost:8080/"
        },
        "id": "PkPlAI-a9HPR",
        "outputId": "7dde4bf8-249a-405b-a5eb-23e77df1344c"
      },
      "execution_count": null,
      "outputs": [
        {
          "output_type": "stream",
          "name": "stdout",
          "text": [
            "Eres menor de edad\n"
          ]
        }
      ]
    },
    {
      "cell_type": "code",
      "source": [
        "#3\n",
        "n1 = float(input(\"ingrese el valor de 1: \"))\n",
        "n2 = float(input(\"ingrese el valor de 2: \"))\n",
        "if n1 > n2:\n",
        "  print(f\"el mayor es {n1}\")\n",
        "else:\n",
        "  print(f\"el menor es {n2}\")"
      ],
      "metadata": {
        "colab": {
          "base_uri": "https://localhost:8080/"
        },
        "id": "lEJSGEFY922z",
        "outputId": "643b14cb-a5b0-45b5-be28-b6e32596fcd9"
      },
      "execution_count": null,
      "outputs": [
        {
          "output_type": "stream",
          "name": "stdout",
          "text": [
            "ingrese el valor de 1: 2\n",
            "ingrese el valor de 2: 5\n",
            "el menor es 5.0\n"
          ]
        }
      ]
    },
    {
      "cell_type": "code",
      "source": [
        "n1 = float(input(\"ingrese el valor de 1: \"))\n",
        "n2 = float(input(\"ingrese el valor de 2: \"))\n",
        "if n1 > n2:\n",
        "  print(f\"el mayor es {n1}\")\n",
        "elif n2 > n1:\n",
        "  print(f\"el mayor es {n2}\")\n",
        "else: print(\"son iguales\")"
      ],
      "metadata": {
        "colab": {
          "base_uri": "https://localhost:8080/"
        },
        "id": "MYzI2oHc-5EC",
        "outputId": "0599ed0c-810e-45b3-9d7b-f3d5c22409de"
      },
      "execution_count": 17,
      "outputs": [
        {
          "output_type": "stream",
          "name": "stdout",
          "text": [
            "ingrese el valor de 1: 4\n",
            "ingrese el valor de 2: 2\n",
            "el mayor es 4.0\n"
          ]
        }
      ]
    },
    {
      "cell_type": "code",
      "source": [
        "print(\"el mayor es \", n1) if n1 >  n2 else print(\"eres el mayor\", n2)"
      ],
      "metadata": {
        "colab": {
          "base_uri": "https://localhost:8080/"
        },
        "id": "_Cui-TD3_eJA",
        "outputId": "27af33e7-e264-4562-f241-5057d6cf40ec"
      },
      "execution_count": 18,
      "outputs": [
        {
          "output_type": "stream",
          "name": "stdout",
          "text": [
            "el mayor es  4.0\n"
          ]
        }
      ]
    },
    {
      "cell_type": "code",
      "source": [
        "a= f\"el mayor es {n1}\" if n1 > n2 else f\"el mayor es {n2}\"\n",
        "print(a)"
      ],
      "metadata": {
        "colab": {
          "base_uri": "https://localhost:8080/"
        },
        "id": "K9nw2c3FT-PS",
        "outputId": "d1d07db8-1b43-4458-ba7c-5274517b32f8"
      },
      "execution_count": 19,
      "outputs": [
        {
          "output_type": "stream",
          "name": "stdout",
          "text": [
            "el mayor es 4.0\n"
          ]
        }
      ]
    },
    {
      "cell_type": "code",
      "source": [
        "#4\n",
        "cali = float(input(\"Ingrese tu calificacion \"))\n",
        "if cali < 60:\n",
        "  print(\"reprobaste\")\n",
        "else:\n",
        "  print(\"aprobastes\")"
      ],
      "metadata": {
        "colab": {
          "base_uri": "https://localhost:8080/"
        },
        "id": "a9O4qEnGVaFf",
        "outputId": "63f199d6-ea61-4a6f-9bf7-7307d28ed579"
      },
      "execution_count": 22,
      "outputs": [
        {
          "output_type": "stream",
          "name": "stdout",
          "text": [
            "Ingrese tu calificacion 80\n",
            "aprobastes\n"
          ]
        }
      ]
    },
    {
      "cell_type": "code",
      "source": [
        "cali = int(input(\"ingrese tu calificacion\"))\n",
        "if cali >= 80:\n",
        "  print(\"Aprobastes con una calificacion superior\")\n",
        "elif cali >= 60 and cali <= 70:\n",
        "  print(\"Aprobastes con una calificacion media\")\n",
        "else: print(\"Reprobastes\")"
      ],
      "metadata": {
        "colab": {
          "base_uri": "https://localhost:8080/"
        },
        "id": "_KD8O4pHWNZA",
        "outputId": "79ef9995-a48c-49df-cde6-6dfb98a3e894"
      },
      "execution_count": 23,
      "outputs": [
        {
          "output_type": "stream",
          "name": "stdout",
          "text": [
            "ingrese tu calificacion80\n",
            "Aprobastes con una calificacion superior\n"
          ]
        }
      ]
    },
    {
      "cell_type": "code",
      "source": [
        "Print(\"Reprobastes\") if cali < 60 else print(\"Aprobastes\")"
      ],
      "metadata": {
        "colab": {
          "base_uri": "https://localhost:8080/"
        },
        "id": "iTbnXXRIWNrG",
        "outputId": "1741810a-9a5f-4197-8f24-af95f3f1b453"
      },
      "execution_count": 24,
      "outputs": [
        {
          "output_type": "stream",
          "name": "stdout",
          "text": [
            "Aprobastes\n"
          ]
        }
      ]
    },
    {
      "cell_type": "code",
      "source": [
        "a=\"Reprobastes\" if cali < 60 else \"Aprobastes\"\n",
        "print(a)"
      ],
      "metadata": {
        "colab": {
          "base_uri": "https://localhost:8080/"
        },
        "id": "9jKAN2PGXW_f",
        "outputId": "8cd04295-abe1-43b4-fb8b-3a434a8847a8"
      },
      "execution_count": 25,
      "outputs": [
        {
          "output_type": "stream",
          "name": "stdout",
          "text": [
            "Aprobastes\n"
          ]
        }
      ]
    },
    {
      "cell_type": "code",
      "source": [
        "#5\n",
        "numero = float(input(\"Ingrese un numero \"))\n",
        "if numero % 2 == 0:\n",
        "  print(\"es par\")\n",
        "else:\n",
        "  print(\"es impar\")"
      ],
      "metadata": {
        "colab": {
          "base_uri": "https://localhost:8080/"
        },
        "id": "me7-kHGBXodd",
        "outputId": "9745d9c3-66c3-4220-9c08-e0dadd809a6a"
      },
      "execution_count": 27,
      "outputs": [
        {
          "output_type": "stream",
          "name": "stdout",
          "text": [
            "Ingrese un numero 217487898\n",
            "es par\n"
          ]
        }
      ]
    },
    {
      "cell_type": "code",
      "source": [
        "numero = float(input(\"ingrese el numero \"))\n",
        "if numero == 0:\n",
        "  print(\"es 0 y es par\")\n",
        "elif numero % 2 == 0:\n",
        "  print(\"y par\")\n",
        "else: print(\"es impar\")"
      ],
      "metadata": {
        "colab": {
          "base_uri": "https://localhost:8080/"
        },
        "id": "8fyWivk_YJDR",
        "outputId": "b75ab284-6129-42bd-f7e0-9d4f93684b0d"
      },
      "execution_count": 31,
      "outputs": [
        {
          "output_type": "stream",
          "name": "stdout",
          "text": [
            "ingrese el numero 0\n",
            "es 0 y es par\n"
          ]
        }
      ]
    },
    {
      "cell_type": "code",
      "source": [
        "print(\"es par\") if numero % 2 == 0 else print(\"es impar\")"
      ],
      "metadata": {
        "colab": {
          "base_uri": "https://localhost:8080/"
        },
        "id": "DvS9Jsu8Ytv5",
        "outputId": "1f0d8ff8-774a-4d58-e2f9-92dbfacd45ba"
      },
      "execution_count": 32,
      "outputs": [
        {
          "output_type": "stream",
          "name": "stdout",
          "text": [
            "es par\n"
          ]
        }
      ]
    },
    {
      "cell_type": "code",
      "source": [
        "a=\"es par\" if numero % 2 == 0 else \"es impar\"\n",
        "print(a)"
      ],
      "metadata": {
        "colab": {
          "base_uri": "https://localhost:8080/"
        },
        "id": "X4NwXRfIY7lh",
        "outputId": "a929dd8f-a5ca-47a1-b9d2-79ff92d5a1a5"
      },
      "execution_count": 33,
      "outputs": [
        {
          "output_type": "stream",
          "name": "stdout",
          "text": [
            "es par\n"
          ]
        }
      ]
    },
    {
      "cell_type": "code",
      "source": [
        "n1 = float(input(\"Ingrese el numero \"))\n",
        "n2 = float(input(\"Ingrese el segundo numero \"))\n",
        "n3 = float(input(\"Ingrese el tercer numero \"))\n",
        "if n1 > n2 and n1 > n3:\n",
        "  print(\"el mayor es \", n1)\n",
        "else:\n",
        "  if n2 > n3:\n",
        "    Print(\"el mayor es \", n2)\n",
        "  else:\n",
        "    print(\"el mayor es \", n3)"
      ],
      "metadata": {
        "colab": {
          "base_uri": "https://localhost:8080/"
        },
        "id": "z4nn_q9AZK8l",
        "outputId": "91f154d3-4f53-496a-8ad5-868c382bda0d"
      },
      "execution_count": 45,
      "outputs": [
        {
          "output_type": "stream",
          "name": "stdout",
          "text": [
            "Ingrese el numero 1\n",
            "Ingrese el segundo numero 2\n",
            "Ingrese el tercer numero 3\n",
            "el mayor es  3.0\n"
          ]
        }
      ]
    },
    {
      "cell_type": "code",
      "source": [
        "#6\n",
        "n1 = float(input(\"Ingrese el primer numero \"))\n",
        "n2 = float(input(\"Ingrese el segundo numero \"))\n",
        "n3 = float(input(\"Ingrese el tercer numero \"))\n",
        "if n1 > n2 and n1 > n3:\n",
        "  print(\"el mayor es \", n1)\n",
        "elif n2 > n1 and n2 > n3:\n",
        "  print(\"el mayor es \", n2)\n",
        "else:\n",
        "  print(\"el mayor es \", n3)"
      ],
      "metadata": {
        "colab": {
          "base_uri": "https://localhost:8080/"
        },
        "id": "18hn_JGga0i1",
        "outputId": "82623ef2-5cba-4881-95c0-5784410e189c"
      },
      "execution_count": 47,
      "outputs": [
        {
          "output_type": "stream",
          "name": "stdout",
          "text": [
            "Ingrese el primer numero 2\n",
            "Ingrese el segundo numero 3\n",
            "Ingrese el tercer numero 8\n",
            "el mayor es  8.0\n"
          ]
        }
      ]
    },
    {
      "cell_type": "code",
      "source": [
        "print(\"el mayor es \", n1) if n1 > n2 and n1 > n3 else print(\"el mayor es \", n2) if n2 > n1 and n2 > n3 else print(\"el mayor es \", n3)"
      ],
      "metadata": {
        "colab": {
          "base_uri": "https://localhost:8080/"
        },
        "id": "PpGDJ55Pbyb-",
        "outputId": "13e8ce91-ccc9-4504-b668-5658b4ecb538"
      },
      "execution_count": 56,
      "outputs": [
        {
          "output_type": "stream",
          "name": "stdout",
          "text": [
            "el mayor es  8.0\n"
          ]
        }
      ]
    },
    {
      "cell_type": "code",
      "source": [
        "a=f\"el mayor es {n1}\" if n1 > n2 and n1 > n3 else f\"el mayor es {n2}\" if n2 > n1 and n2 > n3 else f\"el mayor es {n3}\"\n",
        "print(a)"
      ],
      "metadata": {
        "colab": {
          "base_uri": "https://localhost:8080/"
        },
        "id": "jOIjpCqQcmME",
        "outputId": "9f1a5c0c-1326-4f36-81ed-3502fb332710"
      },
      "execution_count": 57,
      "outputs": [
        {
          "output_type": "stream",
          "name": "stdout",
          "text": [
            "el mayor es 8.0\n"
          ]
        }
      ]
    },
    {
      "cell_type": "code",
      "source": [
        "#7\n",
        "año = float(input(\"Ingrese su año \"))\n",
        "h = año/4\n",
        "b = año/100\n",
        "c = año/400\n",
        "if (año % 4 == 0 and año % 100 != 0) or (año % 400 == 0):\n",
        "  print(\"si es bisiesto \")\n",
        "else:\n",
        "  print(\"no es bisiesto \")"
      ],
      "metadata": {
        "colab": {
          "base_uri": "https://localhost:8080/"
        },
        "id": "vZWTIMuReQUI",
        "outputId": "9e30f92e-76dc-4c44-fa3e-7632c28cf571"
      },
      "execution_count": 65,
      "outputs": [
        {
          "output_type": "stream",
          "name": "stdout",
          "text": [
            "Ingrese su año 2024\n",
            "si es bisiesto \n"
          ]
        }
      ]
    },
    {
      "cell_type": "code",
      "source": [
        "año = float(input(\"Ingrese un año \"))\n",
        "h = año/4\n",
        "b = año/100\n",
        "c = año/400\n",
        "if año % 4 == 0 and año % 100 != 0:\n",
        "  print(\"si es bisiesto \")\n",
        "elif año % 400 == 0:\n",
        "  print(\"si es bisiesto \")\n",
        "else:\n",
        "  print(\"no es bisiesto \")"
      ],
      "metadata": {
        "colab": {
          "base_uri": "https://localhost:8080/"
        },
        "id": "smzuZ7Luf2mM",
        "outputId": "3532db05-fe38-4903-e2d9-b3cf8437d404"
      },
      "execution_count": 66,
      "outputs": [
        {
          "output_type": "stream",
          "name": "stdout",
          "text": [
            "Ingrese un año 2026\n",
            "no es bisiesto \n"
          ]
        }
      ]
    },
    {
      "cell_type": "code",
      "source": [
        "print(\"si es bisiesto \") if (año % 4 == 0 and año % 100 != 0) or (año % 400 == 0) else print(\"no es bisisesto \")"
      ],
      "metadata": {
        "colab": {
          "base_uri": "https://localhost:8080/"
        },
        "id": "uB-4rsuognWS",
        "outputId": "08861b33-1448-4873-907e-07cf607cc8aa"
      },
      "execution_count": 108,
      "outputs": [
        {
          "output_type": "stream",
          "name": "stdout",
          "text": [
            "no es bisisesto \n"
          ]
        }
      ]
    },
    {
      "cell_type": "code",
      "source": [
        "a=\"si es bisiesto \" if (año %  4 == 0 and año % 100 != 0 ) or (año % 400 == 0) else \"no es bisiesto \"\n",
        "print(a)"
      ],
      "metadata": {
        "colab": {
          "base_uri": "https://localhost:8080/"
        },
        "id": "-k7rAYd-hDNx",
        "outputId": "ea872b04-b589-410b-9303-c41fe1eb5c90"
      },
      "execution_count": 107,
      "outputs": [
        {
          "output_type": "stream",
          "name": "stdout",
          "text": [
            "no es bisiesto \n"
          ]
        }
      ]
    },
    {
      "cell_type": "code",
      "source": [
        "#8\n",
        "c=(input(\"Ingrese tu contraseña \"))\n",
        "a=len(c) > 8\n",
        "b=any(c.isupper() for c in c)\n",
        "d=any(c.isdigit() for c in c)\n",
        "if a and b and d:\n",
        "  print(\"contraseña aseptada\")\n",
        "else:\n",
        "  print(\"contraseña Invalida\")\n",
        "  if not a:\n",
        "    print(\"La contraseña no tiene 8 caracteres\")\n",
        "    if not d:\n",
        "      print(\"la contraseña no tiene numeros\")"
      ],
      "metadata": {
        "colab": {
          "base_uri": "https://localhost:8080/"
        },
        "id": "-flJ0efphjuv",
        "outputId": "10eba31a-a5b7-47a2-d2d1-0ef0dfff0197"
      },
      "execution_count": 109,
      "outputs": [
        {
          "output_type": "stream",
          "name": "stdout",
          "text": [
            "Ingrese tu contraseña Holabybys634\n",
            "contraseña aseptada\n"
          ]
        }
      ]
    },
    {
      "cell_type": "code",
      "source": [
        "c=(input(\"Ingrese tu contraseña: \"))\n",
        "a=len(c) > 8\n",
        "b=any(c.isupper() for c in c)\n",
        "d=any(c.isdigit() for c in c)\n",
        "if a > 8:\n",
        "  print(\"La contraseña no contiene 8 caracteres\")\n",
        "elif not b:\n",
        "  print(\"La contraseña no contiene Mayusculas\")\n",
        "elif not d:\n",
        "  print(\"La contraseña no contiene numeros\")\n",
        "else:\n",
        "  print(\"contraseña es Aseptada\")"
      ],
      "metadata": {
        "colab": {
          "base_uri": "https://localhost:8080/"
        },
        "id": "vGCJHpj3islE",
        "outputId": "9f7fbc90-41c4-4ca5-b623-a5c1d47ccadd"
      },
      "execution_count": 142,
      "outputs": [
        {
          "output_type": "stream",
          "name": "stdout",
          "text": [
            "Ingrese tu contraseña: Ander25643\n",
            "contraseña es Aseptada\n"
          ]
        }
      ]
    },
    {
      "cell_type": "code",
      "source": [
        "print(\"La contraseña no contiene 8 caracteres\") if a < 8 else print(\"La contraseña no contiene m=Mayusculas\") if not b else print(\"contraseña Aseptada\")"
      ],
      "metadata": {
        "colab": {
          "base_uri": "https://localhost:8080/"
        },
        "collapsed": true,
        "id": "577COOXFksDN",
        "outputId": "1bc37333-6b69-477c-df9d-b3645817757f"
      },
      "execution_count": 143,
      "outputs": [
        {
          "output_type": "stream",
          "name": "stdout",
          "text": [
            "La contraseña no contiene 8 caracteres\n"
          ]
        }
      ]
    },
    {
      "cell_type": "code",
      "source": [
        "a= \"La contraseña no contiene 8 caracteres\" if a > 8 else \"La contraseña no contiene Mayusculas\" if not b else \"La contraseña no contiene numeros\"\n",
        "print(a)"
      ],
      "metadata": {
        "colab": {
          "base_uri": "https://localhost:8080/"
        },
        "id": "aynNWQbQleQH",
        "outputId": "63604d2d-8081-476f-b1c3-0e605e6c7be9"
      },
      "execution_count": 144,
      "outputs": [
        {
          "output_type": "stream",
          "name": "stdout",
          "text": [
            "La contraseña no contiene numeros\n"
          ]
        }
      ]
    },
    {
      "cell_type": "code",
      "source": [
        "#9\n",
        "a=float(input(\"Ingrese un numero \"))\n",
        "b=a/3\n",
        "c=a/5\n",
        "if a % 3 == 0 and a % 5!= 0:\n",
        "  print(\"Fizz\")\n",
        "else:\n",
        "  if a % 5 == 0 and a % 3!= 0:\n",
        "    print(\"Buzz\")\n",
        "  else:\n",
        "      print(\"FizzBuzz\")"
      ],
      "metadata": {
        "colab": {
          "base_uri": "https://localhost:8080/"
        },
        "id": "lbC3QcsFnPp4",
        "outputId": "6968110b-3a7a-4d12-92ec-de17e2ed1a84"
      },
      "execution_count": 146,
      "outputs": [
        {
          "output_type": "stream",
          "name": "stdout",
          "text": [
            "Ingrese un numero 15\n",
            "FizzBuzz\n"
          ]
        }
      ]
    },
    {
      "cell_type": "code",
      "source": [
        "a=float(input(\"Ingrese un numero \"))\n",
        "b=a/3\n",
        "c=a/5\n",
        "if a % 3 == 0 and a % 5!= 0:\n",
        "  print(\"Fizz\")\n",
        "elif a % 5 == 0 and a % 3!= 0:\n",
        "  print(\"Buzz\")\n",
        "elif a % 3 == 0 and a % 5 == 0:\n",
        "  print(\"FizzBuzz\")\n",
        "else:\n",
        "  print(a)"
      ],
      "metadata": {
        "colab": {
          "base_uri": "https://localhost:8080/"
        },
        "id": "JsUHfdmgpHxE",
        "outputId": "8dc643b0-b92d-4671-e2bd-524933162c3b"
      },
      "execution_count": 147,
      "outputs": [
        {
          "output_type": "stream",
          "name": "stdout",
          "text": [
            "Ingrese un numero 62\n",
            "62.0\n"
          ]
        }
      ]
    },
    {
      "cell_type": "code",
      "source": [
        "print(\"FizzBuzz\") if a % 3==0 and a % 5==0 else print(\"Buzz\") if a % 3!=0 else print(\"Fizz\") if a % 3 == 0 and  a % 5!= 0 else print(a)"
      ],
      "metadata": {
        "colab": {
          "base_uri": "https://localhost:8080/"
        },
        "id": "bE6gdNFEqCth",
        "outputId": "b7d271ed-7a86-453c-81f1-9c7998a91e63"
      },
      "execution_count": 148,
      "outputs": [
        {
          "output_type": "stream",
          "name": "stdout",
          "text": [
            "Buzz\n"
          ]
        }
      ]
    },
    {
      "cell_type": "code",
      "source": [
        "a=\"FizzBuzz\" if a % 3==0 and a % 5==0 else \"Buzz\" if a % 5==0 and a % 3!=0 else \"Fizz\" if a % 3==0 and a % 5!=0 else a\n",
        "print(a)"
      ],
      "metadata": {
        "colab": {
          "base_uri": "https://localhost:8080/",
          "height": 159
        },
        "collapsed": true,
        "id": "HEoP-nyArFFx",
        "outputId": "256b83b7-3544-451f-b5af-2cb1c19e1780"
      },
      "execution_count": 219,
      "outputs": [
        {
          "output_type": "error",
          "ename": "TypeError",
          "evalue": "not all arguments converted during string formatting",
          "traceback": [
            "\u001b[0;31m---------------------------------------------------------------------------\u001b[0m",
            "\u001b[0;31mTypeError\u001b[0m                                 Traceback (most recent call last)",
            "\u001b[0;32m/tmp/ipython-input-4033859849.py\u001b[0m in \u001b[0;36m<cell line: 0>\u001b[0;34m()\u001b[0m\n\u001b[0;32m----> 1\u001b[0;31m \u001b[0ma\u001b[0m\u001b[0;34m=\u001b[0m\u001b[0;34m\"FizzBuzz\"\u001b[0m \u001b[0;32mif\u001b[0m \u001b[0ma\u001b[0m \u001b[0;34m%\u001b[0m \u001b[0;36m3\u001b[0m\u001b[0;34m==\u001b[0m\u001b[0;36m0\u001b[0m \u001b[0;32mand\u001b[0m \u001b[0ma\u001b[0m \u001b[0;34m%\u001b[0m \u001b[0;36m5\u001b[0m\u001b[0;34m==\u001b[0m\u001b[0;36m0\u001b[0m \u001b[0;32melse\u001b[0m \u001b[0;34m\"Buzz\"\u001b[0m \u001b[0;32mif\u001b[0m \u001b[0ma\u001b[0m \u001b[0;34m%\u001b[0m \u001b[0;36m5\u001b[0m\u001b[0;34m==\u001b[0m\u001b[0;36m0\u001b[0m \u001b[0;32mand\u001b[0m \u001b[0ma\u001b[0m \u001b[0;34m%\u001b[0m \u001b[0;36m3\u001b[0m\u001b[0;34m!=\u001b[0m\u001b[0;36m0\u001b[0m \u001b[0;32melse\u001b[0m \u001b[0;34m\"Fizz\"\u001b[0m \u001b[0;32mif\u001b[0m \u001b[0ma\u001b[0m \u001b[0;34m%\u001b[0m \u001b[0;36m3\u001b[0m\u001b[0;34m==\u001b[0m\u001b[0;36m0\u001b[0m \u001b[0;32mand\u001b[0m \u001b[0ma\u001b[0m \u001b[0;34m%\u001b[0m \u001b[0;36m5\u001b[0m\u001b[0;34m!=\u001b[0m\u001b[0;36m0\u001b[0m \u001b[0;32melse\u001b[0m \u001b[0ma\u001b[0m\u001b[0;34m\u001b[0m\u001b[0;34m\u001b[0m\u001b[0m\n\u001b[0m\u001b[1;32m      2\u001b[0m \u001b[0mprint\u001b[0m\u001b[0;34m(\u001b[0m\u001b[0ma\u001b[0m\u001b[0;34m)\u001b[0m\u001b[0;34m\u001b[0m\u001b[0;34m\u001b[0m\u001b[0m\n",
            "\u001b[0;31mTypeError\u001b[0m: not all arguments converted during string formatting"
          ]
        }
      ]
    },
    {
      "cell_type": "code",
      "source": [
        "#10\n",
        "mila=float(input(\"Ingrese tu saldo \"))\n",
        "gab=float(input(\"Cuando desea retirar \"))\n",
        "ro= mila - gab\n",
        "if ro >= 0:\n",
        "  print(\"Operacion permitida\")\n",
        "else:\n",
        "  print(\"Operacion invalida\")"
      ],
      "metadata": {
        "colab": {
          "base_uri": "https://localhost:8080/"
        },
        "id": "ndnwLed9tPn9",
        "outputId": "4fad2c75-1167-432b-f6ff-b3cb73542f0b"
      },
      "execution_count": 223,
      "outputs": [
        {
          "output_type": "stream",
          "name": "stdout",
          "text": [
            "Ingrese tu saldo 1000000\n",
            "Cuando desea retirar 95000\n",
            "Operacion permitida\n"
          ]
        }
      ]
    },
    {
      "cell_type": "code",
      "source": [
        "mila=float(input(\"Ingrese tu saldo \"))\n",
        "gab=float(input(\"cuando desea retirar \"))\n",
        "ro= mila - gab\n",
        "if ro > 0:\n",
        "  print(f\"Operacdio permitida el valor que queda es de {ro}\")\n",
        "elif ro < 0:\n",
        "  print(\"Operacion Invalida el retiro exede el saldo total de su cuenta\")\n",
        "else:\n",
        "  print(f\"Operacion permitida el valor que queda es de {ro}\")"
      ],
      "metadata": {
        "colab": {
          "base_uri": "https://localhost:8080/"
        },
        "id": "n3X8zQjmuMR3",
        "outputId": "3f6d17c0-6ee2-4a36-e290-fb0a02309a68"
      },
      "execution_count": 224,
      "outputs": [
        {
          "output_type": "stream",
          "name": "stdout",
          "text": [
            "Ingrese tu saldo 1000000\n",
            "cuando desea retirar 200000\n",
            "Operacdio permitida el valor que queda es de 800000.0\n"
          ]
        }
      ]
    },
    {
      "cell_type": "code",
      "source": [
        "print(\"Operacion permitida\") if ro >= 0 else print(\"Operacion invalida\")"
      ],
      "metadata": {
        "colab": {
          "base_uri": "https://localhost:8080/"
        },
        "id": "mhGhCczdvR0_",
        "outputId": "d953e670-e122-4fc4-b65d-22396d0e0fd6"
      },
      "execution_count": 225,
      "outputs": [
        {
          "output_type": "stream",
          "name": "stdout",
          "text": [
            "Operacion permitida\n"
          ]
        }
      ]
    },
    {
      "cell_type": "code",
      "source": [
        "a=\"Operacion permitida\" if ro >= 0 else \"Operacion invalida\"\n",
        "print(a)"
      ],
      "metadata": {
        "colab": {
          "base_uri": "https://localhost:8080/"
        },
        "id": "-44l7R_rvd7g",
        "outputId": "bfb444e1-4823-4bc4-8495-2ce804ae2ee8"
      },
      "execution_count": 226,
      "outputs": [
        {
          "output_type": "stream",
          "name": "stdout",
          "text": [
            "Operacion permitida\n"
          ]
        }
      ]
    }
  ]
}