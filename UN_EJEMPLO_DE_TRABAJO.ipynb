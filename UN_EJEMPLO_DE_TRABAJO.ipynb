{
  "nbformat": 4,
  "nbformat_minor": 0,
  "metadata": {
    "colab": {
      "provenance": [],
      "authorship_tag": "ABX9TyN+QuaKhcCXX4Gyo8X4+iQp",
      "include_colab_link": true
    },
    "kernelspec": {
      "name": "python3",
      "display_name": "Python 3"
    },
    "language_info": {
      "name": "python"
    }
  },
  "cells": [
    {
      "cell_type": "markdown",
      "metadata": {
        "id": "view-in-github",
        "colab_type": "text"
      },
      "source": [
        "<a href=\"https://colab.research.google.com/github/Aderson87/PROGCOM-A/blob/main/UN_EJEMPLO_DE_TRABAJO.ipynb\" target=\"_parent\"><img src=\"https://colab.research.google.com/assets/colab-badge.svg\" alt=\"Open In Colab\"/></a>"
      ]
    },
    {
      "cell_type": "code",
      "execution_count": null,
      "metadata": {
        "id": "6JgMn2ERLlzN"
      },
      "outputs": [],
      "source": [
        "def mover_cadera(a):\n",
        "  for i in range(a):\n",
        "    print(\"Mver cadera a la derecha\")\n",
        "  for i in range(a):\n",
        "    print(\"Mover cadera a la izquierda\")"
      ]
    },
    {
      "cell_type": "code",
      "source": [
        "maver_cadera(2,3)"
      ],
      "metadata": {
        "id": "1uJZuJ4UMK65"
      },
      "execution_count": null,
      "outputs": []
    }
  ]
}