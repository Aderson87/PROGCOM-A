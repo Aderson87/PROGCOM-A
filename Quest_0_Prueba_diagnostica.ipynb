{
  "nbformat": 4,
  "nbformat_minor": 0,
  "metadata": {
    "colab": {
      "provenance": []
    },
    "kernelspec": {
      "name": "python3",
      "display_name": "Python 3"
    },
    "language_info": {
      "name": "python"
    }
  },
  "cells": [
    {
      "cell_type": "markdown",
      "source": [
        "##Prueva diagnostica"
      ],
      "metadata": {
        "id": "MFOOuhQpL86T"
      }
    },
    {
      "cell_type": "markdown",
      "source": [
        "##Estructura de seleccion\n",
        "Aqui se desarrollan ejercicios sebre estrcutura de selecion\n",
        "\n",
        "Por pseint\n",
        "\n",
        "```\n",
        "si (condicion) entonces:\n",
        "  pasan cosas divertidas ⏰\n",
        "si no:\n",
        "  llorelo 😭\n",
        "```\n",
        " Por algoritmo\n",
        " 1. solicito la variable y la almaceno en a\n",
        " 2. comparo esa variable con otra llamada b\n"
      ],
      "metadata": {
        "id": "nEenlFyGLlmU"
      }
    },
    {
      "cell_type": "code",
      "execution_count": null,
      "metadata": {
        "id": "_zIfuddaJS1d"
      },
      "outputs": [],
      "source": []
    }
  ]
}