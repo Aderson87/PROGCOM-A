{
  "nbformat": 4,
  "nbformat_minor": 0,
  "metadata": {
    "colab": {
      "provenance": [],
      "authorship_tag": "ABX9TyNpILF8oB+JUNkcy7bp91H6",
      "include_colab_link": true
    },
    "kernelspec": {
      "name": "python3",
      "display_name": "Python 3"
    },
    "language_info": {
      "name": "python"
    }
  },
  "cells": [
    {
      "cell_type": "markdown",
      "metadata": {
        "id": "view-in-github",
        "colab_type": "text"
      },
      "source": [
        "<a href=\"https://colab.research.google.com/github/Aderson87/PROGCOM-A/blob/main/Quest_0_Prueba_diagnostica.ipynb\" target=\"_parent\"><img src=\"https://colab.research.google.com/assets/colab-badge.svg\" alt=\"Open In Colab\"/></a>"
      ]
    },
    {
      "cell_type": "markdown",
      "source": [
        "##Prueva diagnostica"
      ],
      "metadata": {
        "id": "MFOOuhQpL86T"
      }
    },
    {
      "cell_type": "markdown",
      "source": [
        "##Estructura de seleccion\n",
        "Aqui se desarrollan ejercicios sebre estrcutura de selecion\n",
        "\n",
        "Por pseint\n",
        "\n",
        "```\n",
        "si (condicion) entonces:\n",
        "  pasan cosas divertidas ⏰\n",
        "si no:\n",
        "  llorelo 😭\n",
        "```\n",
        " Por algoritmo\n",
        " 1. solicito la variable y la almaceno en a\n",
        " 2. comparo esa variable con otra llamada b\n"
      ],
      "metadata": {
        "id": "nEenlFyGLlmU"
      }
    },
    {
      "cell_type": "markdown",
      "source": [
        "\n",
        "\n",
        "```\n",
        "Algoritmo Numero_e_indique\n",
        "\tDefinir  n Como Caracter\n",
        "\tEscribir \"indique un numero\"\n",
        "\tLeer n\n",
        "\tSi n > 0 Entonces\n",
        "\t\tEscribir \"El numero es positivo\"\n",
        "\tSiNo\n",
        "\t\tEscribir \"El numero es negativo\"\n",
        "\tFin Si\n",
        "FinAlgoritmo\n",
        "\n",
        "```\n",
        "\n"
      ],
      "metadata": {
        "id": "V2CiAKTlXBSY"
      }
    },
    {
      "cell_type": "markdown",
      "source": [
        "\n",
        "\n",
        "```\n",
        "Algoritmo Edad\n",
        "\tDefinir  E  Como Entero\n",
        "\tEscribir \"ingrese tu edad\"\n",
        "\tLeer E\n",
        "\tSi E >= 18 Entonces\n",
        "\t\tEscribir \"Eres mayor de edad\"\n",
        "\tSiNo\n",
        "\t\tEscribir \"Eres meno de edad\"\n",
        "\tFin Si\n",
        "FinAlgoritmo\n",
        "\n",
        "```\n",
        "\n"
      ],
      "metadata": {
        "id": "iXUlz1jCYEkw"
      }
    },
    {
      "cell_type": "markdown",
      "source": [
        "\n",
        "\n",
        "```\n",
        "Algoritmo Imprimir\n",
        "\tDefinir  n1, n2  Como Entero\n",
        "\tEscribir \"Dime un numero\"\n",
        "\tLeer n1\n",
        "\tEscribir \"Dime otro numero\"\n",
        "\tleer n2\n",
        "\tSi n1 >= n2 Entonces\n",
        "\t\tEscribir n1 \" Imprimir eres el Mayor\"\n",
        "\tSiNo\n",
        "\t\tEscribir n2 \" Imprimir eres el Mayor\"\n",
        "\tFin Si\n",
        "FinAlgoritmo\n",
        "\n",
        "```\n",
        "\n"
      ],
      "metadata": {
        "id": "9ftfr5P6ao2V"
      }
    },
    {
      "cell_type": "markdown",
      "source": [
        "\n",
        "\n",
        "```\n",
        "Algoritmo Calificasiones\n",
        "\tDefinir  n  Como Entero\n",
        "\tEscribir \"Inscriva su nota\"\n",
        "\tLeer n\n",
        "\tSi n >= 60 Entonces\n",
        "\t\tEscribir \"Felicidades Aprovastes\"\n",
        "\tSiNo\n",
        "\t\tEscribir \"Reprobastes\"\n",
        "\tFin Si\n",
        "FinAlgoritmo\n",
        "```\n",
        "\n"
      ],
      "metadata": {
        "id": "-48PYOrXba_8"
      }
    },
    {
      "cell_type": "markdown",
      "source": [
        "\n",
        "\n",
        "```\n",
        "Algoritmo Imprimir_2\n",
        "\tDefinir  n1, n2, n3  Como Entero\n",
        "\tEscribir \"Insgrese el numero\"\n",
        "\tLeer n1\n",
        "\tEscribir n2\n",
        "\tLeer n2\n",
        "\tEscribir n3\n",
        "\tLeer n3\n",
        "\tSi n1 > n2, n3 Entonces\n",
        "\t\tEscribir \"Imprimir\" n1\n",
        "\tSiNo\n",
        "\t\tEscribir \"Imprimir\" n2\n",
        "\tSiNo\n",
        "\t\tEscribir \"Imprimir\" n3\n",
        "\tFin Si\n",
        "FinAlgoritmo\n",
        "\n",
        "```\n",
        "\n"
      ],
      "metadata": {
        "id": "pfGEVZzYbfA0"
      }
    },
    {
      "cell_type": "code",
      "execution_count": null,
      "metadata": {
        "id": "_zIfuddaJS1d"
      },
      "outputs": [],
      "source": []
    }
  ]
}